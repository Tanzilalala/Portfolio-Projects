{
  "nbformat": 4,
  "nbformat_minor": 0,
  "metadata": {
    "colab": {
      "name": "Stemming & Lemmatization.ipynb",
      "provenance": []
    },
    "kernelspec": {
      "name": "python3",
      "display_name": "Python 3"
    },
    "language_info": {
      "name": "python"
    }
  },
  "cells": [
    {
      "cell_type": "markdown",
      "source": [
        "# ***Stemming*** & ***Lemmatization***"
      ],
      "metadata": {
        "id": "isRho2pOnfDi"
      }
    },
    {
      "cell_type": "code",
      "source": [
        "words = ['run','runner','running','ran','rans','easily','smoothly']"
      ],
      "metadata": {
        "id": "xgD8hgCknhI5"
      },
      "execution_count": 23,
      "outputs": []
    },
    {
      "cell_type": "code",
      "source": [
        "import nltk"
      ],
      "metadata": {
        "id": "W6ssrRpMocDn"
      },
      "execution_count": 2,
      "outputs": []
    },
    {
      "cell_type": "code",
      "source": [
        "from nltk.stem.porter import PorterStemmer\n",
        "from nltk.stem.snowball import SnowballStemmer"
      ],
      "metadata": {
        "id": "tA1_GDARofb7"
      },
      "execution_count": 3,
      "outputs": []
    },
    {
      "cell_type": "code",
      "source": [
        "p_stemmer = PorterStemmer()\n",
        "s_stemmer = SnowballStemmer(language ='english')"
      ],
      "metadata": {
        "id": "Zv3vBuGBouSk"
      },
      "execution_count": 24,
      "outputs": []
    },
    {
      "cell_type": "code",
      "source": [
        "for word in words:\n",
        "  print(word + ' = ' +p_stemmer.stem(word))\n"
      ],
      "metadata": {
        "colab": {
          "base_uri": "https://localhost:8080/"
        },
        "id": "tCebxJZco_dp",
        "outputId": "10420089-3046-4edc-8055-34d836b037cf"
      },
      "execution_count": 25,
      "outputs": [
        {
          "output_type": "stream",
          "name": "stdout",
          "text": [
            "run = run\n",
            "runner = runner\n",
            "running = run\n",
            "ran = ran\n",
            "rans = ran\n",
            "easily = easili\n",
            "smoothly = smoothli\n"
          ]
        }
      ]
    },
    {
      "cell_type": "code",
      "source": [
        "for word in words:\n",
        "  print(word + ' = ' +s_stemmer.stem(word))"
      ],
      "metadata": {
        "colab": {
          "base_uri": "https://localhost:8080/"
        },
        "id": "RNYhJTuRqFPE",
        "outputId": "ef650446-6b72-493b-f589-1f1a60ccc61f"
      },
      "execution_count": 26,
      "outputs": [
        {
          "output_type": "stream",
          "name": "stdout",
          "text": [
            "run = run\n",
            "runner = runner\n",
            "running = run\n",
            "ran = ran\n",
            "rans = ran\n",
            "easily = easili\n",
            "smoothly = smooth\n"
          ]
        }
      ]
    },
    {
      "cell_type": "markdown",
      "source": [
        "Therefore, *SNOWBALL* *STEMMER* works a bit better than *PORTER* *STEMMER* "
      ],
      "metadata": {
        "id": "4z5MGVk1qaUq"
      }
    },
    {
      "cell_type": "markdown",
      "source": [
        "# **Lemmatization**"
      ],
      "metadata": {
        "id": "w2Slpt57qu-L"
      }
    },
    {
      "cell_type": "code",
      "source": [
        "import spacy\n",
        "nlp = spacy.load('en_core_web_sm')"
      ],
      "metadata": {
        "id": "4jUGtJqRqyd8"
      },
      "execution_count": 27,
      "outputs": []
    },
    {
      "cell_type": "code",
      "source": [
        "doc1 = nlp(\"Everyone is waiting for the best Marvel movie\")"
      ],
      "metadata": {
        "id": "dfkEWp6WrESS"
      },
      "execution_count": 28,
      "outputs": []
    },
    {
      "cell_type": "code",
      "source": [
        "for token in doc1:\n",
        "  print(token.text, '\\t', token.lemma_)"
      ],
      "metadata": {
        "colab": {
          "base_uri": "https://localhost:8080/"
        },
        "id": "BK2akHSWt9ty",
        "outputId": "1e22ae94-1feb-4ecc-d607-f8dd04c98b2d"
      },
      "execution_count": 29,
      "outputs": [
        {
          "output_type": "stream",
          "name": "stdout",
          "text": [
            "Everyone \t everyone\n",
            "is \t be\n",
            "waiting \t wait\n",
            "for \t for\n",
            "the \t the\n",
            "best \t good\n",
            "Marvel \t Marvel\n",
            "movie \t movie\n"
          ]
        }
      ]
    },
    {
      "cell_type": "code",
      "source": [
        "s1 = \"Everyone is waiting for the best Marvel movie\"\n",
        "for word in s1.split():\n",
        "   print(word + ' = ' +p_stemmer.stem(word))"
      ],
      "metadata": {
        "colab": {
          "base_uri": "https://localhost:8080/"
        },
        "id": "nqg9D8wduaQj",
        "outputId": "0cfb2827-44a6-44af-e40c-ac7ee4deb564"
      },
      "execution_count": 31,
      "outputs": [
        {
          "output_type": "stream",
          "name": "stdout",
          "text": [
            "Everyone = everyon\n",
            "is = is\n",
            "waiting = wait\n",
            "for = for\n",
            "the = the\n",
            "best = best\n",
            "Marvel = marvel\n",
            "movie = movi\n"
          ]
        }
      ]
    },
    {
      "cell_type": "markdown",
      "source": [
        "Stemming just removes or stems the last few characters of a word, often leading to incorrect meanings and spelling. Lemmatization considers the context and converts the word to its meaningful base form, which is called Lemma."
      ],
      "metadata": {
        "id": "6Vp8SlhCvIp6"
      }
    }
  ]
}