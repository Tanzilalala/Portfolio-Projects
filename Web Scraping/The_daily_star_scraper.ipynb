{
 "cells": [
  {
   "cell_type": "markdown",
   "metadata": {},
   "source": [
    "# Importing necessary library"
   ]
  },
  {
   "cell_type": "code",
   "execution_count": 322,
   "metadata": {},
   "outputs": [],
   "source": [
    "import requests\n",
    "import json\n",
    "import pandas as pd \n",
    "import time\n",
    "from bs4 import BeautifulSoup as bs\n",
    "import re"
   ]
  },
  {
   "cell_type": "code",
   "execution_count": 323,
   "metadata": {},
   "outputs": [],
   "source": [
    "pages_to_scrape = 17"
   ]
  },
  {
   "cell_type": "markdown",
   "metadata": {},
   "source": [
    "## Assigning url to a variable"
   ]
  },
  {
   "cell_type": "code",
   "execution_count": 324,
   "metadata": {},
   "outputs": [],
   "source": [
    "# url = \"https://www.thedailystar.net/tags/road-accident\"\n",
    "url = []\n",
    "for i in range(0,pages_to_scrape):\n",
    "    a = (f\"https://www.thedailystar.net/tags/road-accident?page={i}\")\n",
    "    url.append(a)\n",
    "base_url = \"https://www.thedailystar.net\""
   ]
  },
  {
   "cell_type": "markdown",
   "metadata": {},
   "source": [
    "## List things I want to scrape"
   ]
  },
  {
   "cell_type": "code",
   "execution_count": 325,
   "metadata": {},
   "outputs": [],
   "source": [
    "url_list=[]\n",
    "article_titles=[]\n",
    "article_summary=[]\n",
    "Description_Text = []\n",
    "date_list=[]\n",
    "img_urls=[]"
   ]
  },
  {
   "cell_type": "code",
   "execution_count": 326,
   "metadata": {},
   "outputs": [],
   "source": [
    "Newspaper_name = []\n",
    "Date_of_Incident = []\n",
    "Time_of_Incident = []\n",
    "Incident_type = []\n",
    "Location = []\n",
    "Deaths_count = []\n",
    "Injury_count = []\n",
    "Type_of_vehicle = []\n",
    "Drivers_age = []"
   ]
  },
  {
   "cell_type": "markdown",
   "metadata": {},
   "source": [
    "## Getting soup :)"
   ]
  },
  {
   "cell_type": "code",
   "execution_count": 327,
   "metadata": {},
   "outputs": [
    {
     "name": "stdout",
     "output_type": "stream",
     "text": [
      "Retrieved url: https://www.thedailystar.net/tags/road-accident?page=0\n",
      "Retrieved url: https://www.thedailystar.net/tags/road-accident?page=1\n",
      "Retrieved url: https://www.thedailystar.net/tags/road-accident?page=2\n",
      "Retrieved url: https://www.thedailystar.net/tags/road-accident?page=3\n",
      "Retrieved url: https://www.thedailystar.net/tags/road-accident?page=4\n",
      "Retrieved url: https://www.thedailystar.net/tags/road-accident?page=5\n",
      "Retrieved url: https://www.thedailystar.net/tags/road-accident?page=6\n",
      "Retrieved url: https://www.thedailystar.net/tags/road-accident?page=7\n",
      "Retrieved url: https://www.thedailystar.net/tags/road-accident?page=8\n",
      "Retrieved url: https://www.thedailystar.net/tags/road-accident?page=9\n",
      "Retrieved url: https://www.thedailystar.net/tags/road-accident?page=10\n",
      "Retrieved url: https://www.thedailystar.net/tags/road-accident?page=11\n",
      "Retrieved url: https://www.thedailystar.net/tags/road-accident?page=12\n",
      "Retrieved url: https://www.thedailystar.net/tags/road-accident?page=13\n",
      "Retrieved url: https://www.thedailystar.net/tags/road-accident?page=14\n",
      "Retrieved url: https://www.thedailystar.net/tags/road-accident?page=15\n",
      "Retrieved url: https://www.thedailystar.net/tags/road-accident?page=16\n"
     ]
    }
   ],
   "source": [
    "soup_list = []\n",
    "for i in url:\n",
    "    doc = requests.get(i)\n",
    "    if str(doc) == \"<Response [200]>\":\n",
    "        # create a soup object that contains the navigable html presentation of the page\n",
    "        soup = bs(doc.content, 'html.parser')\n",
    "        print(f\"Retrieved url: {i}\")\n",
    "        soup_list.append(soup)\n",
    "    #     print(soup.prettify())\n",
    "    else:\n",
    "        print(f\"url entered cannot be reached. {i}\")"
   ]
  },
  {
   "cell_type": "markdown",
   "metadata": {},
   "source": [
    "## Defining a function that gets urls"
   ]
  },
  {
   "cell_type": "code",
   "execution_count": 328,
   "metadata": {},
   "outputs": [],
   "source": [
    "def get_article_urls(soup):\n",
    "    container = soup.findAll(\"h4\", class_=\"pad-bottom-small\")\n",
    "    for i in container:\n",
    "        tag=i.find(\"a\")\n",
    "#         print(tag['href'])\n",
    "        new_urls = base_url + str(tag['href'])\n",
    "#         print(new_urls)\n",
    "        url_list.append(new_urls)\n",
    "    return url_list\n"
   ]
  },
  {
   "cell_type": "markdown",
   "metadata": {},
   "source": [
    "## Running the function"
   ]
  },
  {
   "cell_type": "code",
   "execution_count": 329,
   "metadata": {},
   "outputs": [],
   "source": [
    "for i in soup_list:\n",
    "    get_article_urls(i)"
   ]
  },
  {
   "cell_type": "markdown",
   "metadata": {},
   "source": [
    "## Now preparing to scrape each article "
   ]
  },
  {
   "cell_type": "code",
   "execution_count": 330,
   "metadata": {},
   "outputs": [],
   "source": [
    "new_soup_list =[]\n",
    "for i in url_list:\n",
    "    new_doc = requests.get(i)\n",
    "#     print(new_doc)\n",
    "    if str(new_doc) == \"<Response [200]>\":\n",
    "        # create a soup object that contains the navigable html presentation of the page\n",
    "        new_soup = bs(new_doc.content, 'html.parser')\n",
    "#         print(f\"Retrieved url: {i}\")\n",
    "#         print(soup.prettify())\n",
    "        new_soup_list.append(new_soup)\n",
    "    else:\n",
    "        print(f\"url entered cannot be reached. {url}\")"
   ]
  },
  {
   "cell_type": "markdown",
   "metadata": {},
   "source": [
    "## Now time to scrape each individual article"
   ]
  },
  {
   "cell_type": "markdown",
   "metadata": {},
   "source": [
    "### First article titles"
   ]
  },
  {
   "cell_type": "code",
   "execution_count": 331,
   "metadata": {},
   "outputs": [],
   "source": [
    "for i in new_soup_list:\n",
    "    headings = i.find('h1').getText()\n",
    "#     print(headings)\n",
    "    article_titles.append(headings)\n",
    "    # Also naming the news paper\n",
    "    Newspaper_name.append('The Daily Star')"
   ]
  },
  {
   "cell_type": "markdown",
   "metadata": {},
   "source": [
    "### Counting to maintain same number of data point across dataset"
   ]
  },
  {
   "cell_type": "code",
   "execution_count": 332,
   "metadata": {},
   "outputs": [
    {
     "name": "stdout",
     "output_type": "stream",
     "text": [
      "190\n"
     ]
    }
   ],
   "source": [
    "c= 0\n",
    "for i in article_titles:\n",
    "    c=c+1\n",
    "print(c)"
   ]
  },
  {
   "cell_type": "markdown",
   "metadata": {},
   "source": [
    "### Now article summary"
   ]
  },
  {
   "cell_type": "code",
   "execution_count": 333,
   "metadata": {},
   "outputs": [],
   "source": [
    "for i in new_soup_list:\n",
    "    summary = i.find(\"div\", attrs={\"class\": \"field-body view-mode-full\"})\n",
    "    sum_new = summary.find('strong')\n",
    "    if sum_new == None:\n",
    "        article_summary.append('None')\n",
    "    else:\n",
    "        article_summary.append(sum_new.getText())\n",
    "    \n",
    "    "
   ]
  },
  {
   "cell_type": "markdown",
   "metadata": {},
   "source": [
    "### Counting to maintain same number of data point across dataset"
   ]
  },
  {
   "cell_type": "code",
   "execution_count": 334,
   "metadata": {},
   "outputs": [
    {
     "name": "stdout",
     "output_type": "stream",
     "text": [
      "190\n"
     ]
    }
   ],
   "source": [
    "c= 0\n",
    "for i in article_summary:\n",
    "    c=c+1\n",
    "print(c)"
   ]
  },
  {
   "cell_type": "markdown",
   "metadata": {},
   "source": [
    "### Now discription"
   ]
  },
  {
   "cell_type": "code",
   "execution_count": 335,
   "metadata": {},
   "outputs": [],
   "source": [
    "for i in new_soup_list:\n",
    "    paragraph = i.find(\"div\", attrs={\"class\": \"field-body view-mode-full\"})\n",
    "    new_para = paragraph.findAll('p')\n",
    "#     print(type(paragraph))\n",
    "    list_to_str =''\n",
    "    for j in new_para:\n",
    "        list_to_str = list_to_str + j.getText() + ' '\n",
    "    Description_Text.append(list_to_str)"
   ]
  },
  {
   "cell_type": "code",
   "execution_count": 336,
   "metadata": {},
   "outputs": [
    {
     "data": {
      "text/plain": [
       "'Three people were killed and another was injured as a truck hit a CNG-run auto-rickshaw in Tarakanda upazila of Mymensingh this morning. The deceased was identified as Shahid Mia (33), the auto-rickshaw driver; Khalil Mia (32); and Masum Mia (36) from Durgapur upazila of Netrakona. Quoting locals, officer-in-charge of Tarakanda Police Station Md Abul Khayer said the accident happened at Khicha when the truck hit the Mymensingh-bound auto-rickshaw, leaving Shahid dead on the spot and three others injured around 10:00 am. The injured were rushed to Mymensingh Medical College Hospital (MMCH), where doctors declared Khalil and Masum dead. Another critically injured passenger -- Aminul Islam -- is undergoing treatment at MMCH. Police seized the truck and auto-rickshaw, but the truck driver managed to flee. A case was lodged. '"
      ]
     },
     "execution_count": 336,
     "metadata": {},
     "output_type": "execute_result"
    }
   ],
   "source": [
    "Description_Text[0]"
   ]
  },
  {
   "cell_type": "code",
   "execution_count": 337,
   "metadata": {},
   "outputs": [
    {
     "name": "stdout",
     "output_type": "stream",
     "text": [
      "190\n"
     ]
    }
   ],
   "source": [
    "c= 0\n",
    "for i in Description_Text:\n",
    "    c=c+1\n",
    "print(c)"
   ]
  },
  {
   "cell_type": "markdown",
   "metadata": {},
   "source": [
    "### Now dates of the article"
   ]
  },
  {
   "cell_type": "code",
   "execution_count": 338,
   "metadata": {},
   "outputs": [],
   "source": [
    "\n",
    "for i in new_soup_list:\n",
    "    date = i.find(\"div\", attrs={\"class\": \"small-text\"}).getText()\n",
    "    new_date = date.replace('\\n\\n\\n', '')\n",
    "#     print(new_date)\n",
    "    date_list.append(new_date)"
   ]
  },
  {
   "cell_type": "markdown",
   "metadata": {},
   "source": [
    "### Counting to maintain same number of data point across dataset"
   ]
  },
  {
   "cell_type": "code",
   "execution_count": 339,
   "metadata": {
    "scrolled": true
   },
   "outputs": [
    {
     "name": "stdout",
     "output_type": "stream",
     "text": [
      "190\n"
     ]
    }
   ],
   "source": [
    "c= 0\n",
    "for i in date_list:\n",
    "    c=c+1\n",
    "print(c)"
   ]
  },
  {
   "cell_type": "markdown",
   "metadata": {},
   "source": [
    "### Scraping images"
   ]
  },
  {
   "cell_type": "code",
   "execution_count": 340,
   "metadata": {},
   "outputs": [],
   "source": [
    "for i in new_soup_list:\n",
    "    try:\n",
    "        img = i.find(\"img\", attrs={\"image-style-big-2\"})['src']\n",
    "    except:\n",
    "        img='None'\n",
    "    img_urls.append(img)"
   ]
  },
  {
   "cell_type": "markdown",
   "metadata": {},
   "source": [
    "### Counting to maintain same number of data point across dataset"
   ]
  },
  {
   "cell_type": "code",
   "execution_count": 341,
   "metadata": {
    "scrolled": true
   },
   "outputs": [
    {
     "name": "stdout",
     "output_type": "stream",
     "text": [
      "190\n"
     ]
    }
   ],
   "source": [
    "c= 0\n",
    "for i in img_urls:\n",
    "    c=c+1\n",
    "print(c)"
   ]
  },
  {
   "cell_type": "code",
   "execution_count": 342,
   "metadata": {},
   "outputs": [],
   "source": [
    "for i in new_soup_list:\n",
    "    k=''\n",
    "    Date_of_Incident.append(k)\n",
    "    Time_of_Incident.append(k)\n",
    "    Incident_type.append(k)\n",
    "    \n",
    "    Location.append(k)\n",
    "    Deaths_count.append(k)\n",
    "    Injury_count.append(k)\n",
    "    Type_of_vehicle.append(k)\n",
    "    Drivers_age.append(k)\n"
   ]
  },
  {
   "cell_type": "code",
   "execution_count": 343,
   "metadata": {},
   "outputs": [
    {
     "data": {
      "text/html": [
       "<div>\n",
       "<style scoped>\n",
       "    .dataframe tbody tr th:only-of-type {\n",
       "        vertical-align: middle;\n",
       "    }\n",
       "\n",
       "    .dataframe tbody tr th {\n",
       "        vertical-align: top;\n",
       "    }\n",
       "\n",
       "    .dataframe thead th {\n",
       "        text-align: right;\n",
       "    }\n",
       "</style>\n",
       "<table border=\"1\" class=\"dataframe\">\n",
       "  <thead>\n",
       "    <tr style=\"text-align: right;\">\n",
       "      <th></th>\n",
       "      <th>Newspaper name</th>\n",
       "      <th>Date of Incident</th>\n",
       "      <th>Time of Incident</th>\n",
       "      <th>Incident type</th>\n",
       "      <th>Location</th>\n",
       "      <th>Deaths count</th>\n",
       "      <th>Injury count</th>\n",
       "      <th>Type of vehicle</th>\n",
       "      <th>Drivers age</th>\n",
       "      <th>Links</th>\n",
       "      <th>Description text</th>\n",
       "      <th>Date of publishing</th>\n",
       "      <th>Full Text</th>\n",
       "      <th>Article Summary</th>\n",
       "      <th>Image links</th>\n",
       "    </tr>\n",
       "  </thead>\n",
       "  <tbody>\n",
       "    <tr>\n",
       "      <th>1</th>\n",
       "      <td>The Daily Star</td>\n",
       "      <td></td>\n",
       "      <td></td>\n",
       "      <td></td>\n",
       "      <td></td>\n",
       "      <td></td>\n",
       "      <td></td>\n",
       "      <td></td>\n",
       "      <td></td>\n",
       "      <td>https://www.thedailystar.net/bangladesh/news/3...</td>\n",
       "      <td>3 killed in Mymensingh road accident</td>\n",
       "      <td>04:53 PM, April 28, 2021 / LAST MODIFIED: 05:1...</td>\n",
       "      <td>Three people were killed and another was injur...</td>\n",
       "      <td>Three people were killed and another was injur...</td>\n",
       "      <td>https://assetsds.cdnedge.bluemix.net/sites/def...</td>\n",
       "    </tr>\n",
       "    <tr>\n",
       "      <th>2</th>\n",
       "      <td>The Daily Star</td>\n",
       "      <td></td>\n",
       "      <td></td>\n",
       "      <td></td>\n",
       "      <td></td>\n",
       "      <td></td>\n",
       "      <td></td>\n",
       "      <td></td>\n",
       "      <td></td>\n",
       "      <td>https://www.thedailystar.net/man-dies-after-tr...</td>\n",
       "      <td>Man dies after truck crashes into motorcycle i...</td>\n",
       "      <td>05:47 PM, March 08, 2021 / LAST MODIFIED: 06:0...</td>\n",
       "      <td>A man was killed in a road accident this morni...</td>\n",
       "      <td>A man was killed in a road accident this morni...</td>\n",
       "      <td>https://assetsds.cdnedge.bluemix.net/sites/def...</td>\n",
       "    </tr>\n",
       "    <tr>\n",
       "      <th>3</th>\n",
       "      <td>The Daily Star</td>\n",
       "      <td></td>\n",
       "      <td></td>\n",
       "      <td></td>\n",
       "      <td></td>\n",
       "      <td></td>\n",
       "      <td></td>\n",
       "      <td></td>\n",
       "      <td></td>\n",
       "      <td>https://www.thedailystar.net/3-motorcyclists-k...</td>\n",
       "      <td>3 motorcyclists killed in Natore road accident</td>\n",
       "      <td>01:12 PM, December 06, 2020 / LAST MODIFIED: 0...</td>\n",
       "      <td>Three men riding a motorcycle died early today...</td>\n",
       "      <td>Three men riding a motorcycle died early today...</td>\n",
       "      <td>https://assetsds.cdnedge.bluemix.net/sites/def...</td>\n",
       "    </tr>\n",
       "    <tr>\n",
       "      <th>4</th>\n",
       "      <td>The Daily Star</td>\n",
       "      <td></td>\n",
       "      <td></td>\n",
       "      <td></td>\n",
       "      <td></td>\n",
       "      <td></td>\n",
       "      <td></td>\n",
       "      <td></td>\n",
       "      <td></td>\n",
       "      <td>https://www.thedailystar.net/4-bangladeshi-exp...</td>\n",
       "      <td>4 Bangladeshi expats killed, 1 injured in Maur...</td>\n",
       "      <td>09:04 PM, November 05, 2020 / LAST MODIFIED: 0...</td>\n",
       "      <td>Four Bangladeshi expatriates died and another ...</td>\n",
       "      <td>None</td>\n",
       "      <td>https://assetsds.cdnedge.bluemix.net/sites/def...</td>\n",
       "    </tr>\n",
       "    <tr>\n",
       "      <th>5</th>\n",
       "      <td>The Daily Star</td>\n",
       "      <td></td>\n",
       "      <td></td>\n",
       "      <td></td>\n",
       "      <td></td>\n",
       "      <td></td>\n",
       "      <td></td>\n",
       "      <td></td>\n",
       "      <td></td>\n",
       "      <td>https://www.thedailystar.net/top-pib-official-...</td>\n",
       "      <td>Top PIB official dies in road accident in Jatr...</td>\n",
       "      <td>07:07 PM, September 21, 2020 / LAST MODIFIED: ...</td>\n",
       "      <td>A top official of the Press Institute Banglade...</td>\n",
       "      <td>A top official of the Press Institute Banglade...</td>\n",
       "      <td>None</td>\n",
       "    </tr>\n",
       "    <tr>\n",
       "      <th>...</th>\n",
       "      <td>...</td>\n",
       "      <td>...</td>\n",
       "      <td>...</td>\n",
       "      <td>...</td>\n",
       "      <td>...</td>\n",
       "      <td>...</td>\n",
       "      <td>...</td>\n",
       "      <td>...</td>\n",
       "      <td>...</td>\n",
       "      <td>...</td>\n",
       "      <td>...</td>\n",
       "      <td>...</td>\n",
       "      <td>...</td>\n",
       "      <td>...</td>\n",
       "      <td>...</td>\n",
       "    </tr>\n",
       "    <tr>\n",
       "      <th>186</th>\n",
       "      <td>The Daily Star</td>\n",
       "      <td></td>\n",
       "      <td></td>\n",
       "      <td></td>\n",
       "      <td></td>\n",
       "      <td></td>\n",
       "      <td></td>\n",
       "      <td></td>\n",
       "      <td></td>\n",
       "      <td>https://www.thedailystar.net/country/3-killed-...</td>\n",
       "      <td>Road crashes kill 8 in Munshiganj, Comilla, Ma...</td>\n",
       "      <td>10:50 AM, February 28, 2016 / LAST MODIFIED: 0...</td>\n",
       "      <td>At least eight people were killed and 22 injur...</td>\n",
       "      <td>MUNSHIGANJ</td>\n",
       "      <td>https://assetsds.cdnedge.bluemix.net/sites/def...</td>\n",
       "    </tr>\n",
       "    <tr>\n",
       "      <th>187</th>\n",
       "      <td>The Daily Star</td>\n",
       "      <td></td>\n",
       "      <td></td>\n",
       "      <td></td>\n",
       "      <td></td>\n",
       "      <td></td>\n",
       "      <td></td>\n",
       "      <td></td>\n",
       "      <td></td>\n",
       "      <td>https://www.thedailystar.net/frontpage/two-ban...</td>\n",
       "      <td>Two Bangladeshi students killed</td>\n",
       "      <td>12:00 AM, February 25, 2016 / LAST MODIFIED: 1...</td>\n",
       "      <td>Two Bangladeshi students were killed and anoth...</td>\n",
       "      <td>None</td>\n",
       "      <td>https://assetsds.cdnedge.bluemix.net/sites/def...</td>\n",
       "    </tr>\n",
       "    <tr>\n",
       "      <th>188</th>\n",
       "      <td>The Daily Star</td>\n",
       "      <td></td>\n",
       "      <td></td>\n",
       "      <td></td>\n",
       "      <td></td>\n",
       "      <td></td>\n",
       "      <td></td>\n",
       "      <td></td>\n",
       "      <td></td>\n",
       "      <td>https://www.thedailystar.net/city/police-vehic...</td>\n",
       "      <td>Police vehicle rams motorcycle on wrong side, ...</td>\n",
       "      <td>09:36 PM, February 22, 2016 / LAST MODIFIED: 0...</td>\n",
       "      <td>A youth was killed and another injured today a...</td>\n",
       "      <td>None</td>\n",
       "      <td>https://assetsds.cdnedge.bluemix.net/sites/def...</td>\n",
       "    </tr>\n",
       "    <tr>\n",
       "      <th>189</th>\n",
       "      <td>The Daily Star</td>\n",
       "      <td></td>\n",
       "      <td></td>\n",
       "      <td></td>\n",
       "      <td></td>\n",
       "      <td></td>\n",
       "      <td></td>\n",
       "      <td></td>\n",
       "      <td></td>\n",
       "      <td>https://www.thedailystar.net/country/students-...</td>\n",
       "      <td>Dhaka-Ctg highway blockade lifted, traffic res...</td>\n",
       "      <td>01:47 PM, February 14, 2016 / LAST MODIFIED: 0...</td>\n",
       "      <td>Traffic on Dhaka-Chittagong highway returned t...</td>\n",
       "      <td>None</td>\n",
       "      <td>None</td>\n",
       "    </tr>\n",
       "    <tr>\n",
       "      <th>190</th>\n",
       "      <td>The Daily Star</td>\n",
       "      <td></td>\n",
       "      <td></td>\n",
       "      <td></td>\n",
       "      <td></td>\n",
       "      <td></td>\n",
       "      <td></td>\n",
       "      <td></td>\n",
       "      <td></td>\n",
       "      <td>https://www.thedailystar.net/city/car-ploughs-...</td>\n",
       "      <td>Car ploughs through footpath, kills pedestrian...</td>\n",
       "      <td>09:00 PM, February 12, 2016 / LAST MODIFIED: 0...</td>\n",
       "      <td>A pedestrian was killed and another injured wh...</td>\n",
       "      <td>None</td>\n",
       "      <td>https://assetsds.cdnedge.bluemix.net/sites/def...</td>\n",
       "    </tr>\n",
       "  </tbody>\n",
       "</table>\n",
       "<p>190 rows × 15 columns</p>\n",
       "</div>"
      ],
      "text/plain": [
       "     Newspaper name Date of Incident Time of Incident Incident type Location  \\\n",
       "1    The Daily Star                                                            \n",
       "2    The Daily Star                                                            \n",
       "3    The Daily Star                                                            \n",
       "4    The Daily Star                                                            \n",
       "5    The Daily Star                                                            \n",
       "..              ...              ...              ...           ...      ...   \n",
       "186  The Daily Star                                                            \n",
       "187  The Daily Star                                                            \n",
       "188  The Daily Star                                                            \n",
       "189  The Daily Star                                                            \n",
       "190  The Daily Star                                                            \n",
       "\n",
       "    Deaths count Injury count Type of vehicle Drivers age  \\\n",
       "1                                                           \n",
       "2                                                           \n",
       "3                                                           \n",
       "4                                                           \n",
       "5                                                           \n",
       "..           ...          ...             ...         ...   \n",
       "186                                                         \n",
       "187                                                         \n",
       "188                                                         \n",
       "189                                                         \n",
       "190                                                         \n",
       "\n",
       "                                                 Links  \\\n",
       "1    https://www.thedailystar.net/bangladesh/news/3...   \n",
       "2    https://www.thedailystar.net/man-dies-after-tr...   \n",
       "3    https://www.thedailystar.net/3-motorcyclists-k...   \n",
       "4    https://www.thedailystar.net/4-bangladeshi-exp...   \n",
       "5    https://www.thedailystar.net/top-pib-official-...   \n",
       "..                                                 ...   \n",
       "186  https://www.thedailystar.net/country/3-killed-...   \n",
       "187  https://www.thedailystar.net/frontpage/two-ban...   \n",
       "188  https://www.thedailystar.net/city/police-vehic...   \n",
       "189  https://www.thedailystar.net/country/students-...   \n",
       "190  https://www.thedailystar.net/city/car-ploughs-...   \n",
       "\n",
       "                                      Description text  \\\n",
       "1                 3 killed in Mymensingh road accident   \n",
       "2    Man dies after truck crashes into motorcycle i...   \n",
       "3       3 motorcyclists killed in Natore road accident   \n",
       "4    4 Bangladeshi expats killed, 1 injured in Maur...   \n",
       "5    Top PIB official dies in road accident in Jatr...   \n",
       "..                                                 ...   \n",
       "186  Road crashes kill 8 in Munshiganj, Comilla, Ma...   \n",
       "187                    Two Bangladeshi students killed   \n",
       "188  Police vehicle rams motorcycle on wrong side, ...   \n",
       "189  Dhaka-Ctg highway blockade lifted, traffic res...   \n",
       "190  Car ploughs through footpath, kills pedestrian...   \n",
       "\n",
       "                                    Date of publishing  \\\n",
       "1    04:53 PM, April 28, 2021 / LAST MODIFIED: 05:1...   \n",
       "2    05:47 PM, March 08, 2021 / LAST MODIFIED: 06:0...   \n",
       "3    01:12 PM, December 06, 2020 / LAST MODIFIED: 0...   \n",
       "4    09:04 PM, November 05, 2020 / LAST MODIFIED: 0...   \n",
       "5    07:07 PM, September 21, 2020 / LAST MODIFIED: ...   \n",
       "..                                                 ...   \n",
       "186  10:50 AM, February 28, 2016 / LAST MODIFIED: 0...   \n",
       "187  12:00 AM, February 25, 2016 / LAST MODIFIED: 1...   \n",
       "188  09:36 PM, February 22, 2016 / LAST MODIFIED: 0...   \n",
       "189  01:47 PM, February 14, 2016 / LAST MODIFIED: 0...   \n",
       "190  09:00 PM, February 12, 2016 / LAST MODIFIED: 0...   \n",
       "\n",
       "                                             Full Text  \\\n",
       "1    Three people were killed and another was injur...   \n",
       "2    A man was killed in a road accident this morni...   \n",
       "3    Three men riding a motorcycle died early today...   \n",
       "4    Four Bangladeshi expatriates died and another ...   \n",
       "5    A top official of the Press Institute Banglade...   \n",
       "..                                                 ...   \n",
       "186  At least eight people were killed and 22 injur...   \n",
       "187  Two Bangladeshi students were killed and anoth...   \n",
       "188  A youth was killed and another injured today a...   \n",
       "189  Traffic on Dhaka-Chittagong highway returned t...   \n",
       "190  A pedestrian was killed and another injured wh...   \n",
       "\n",
       "                                       Article Summary  \\\n",
       "1    Three people were killed and another was injur...   \n",
       "2    A man was killed in a road accident this morni...   \n",
       "3    Three men riding a motorcycle died early today...   \n",
       "4                                                 None   \n",
       "5    A top official of the Press Institute Banglade...   \n",
       "..                                                 ...   \n",
       "186                                         MUNSHIGANJ   \n",
       "187                                               None   \n",
       "188                                               None   \n",
       "189                                               None   \n",
       "190                                               None   \n",
       "\n",
       "                                           Image links  \n",
       "1    https://assetsds.cdnedge.bluemix.net/sites/def...  \n",
       "2    https://assetsds.cdnedge.bluemix.net/sites/def...  \n",
       "3    https://assetsds.cdnedge.bluemix.net/sites/def...  \n",
       "4    https://assetsds.cdnedge.bluemix.net/sites/def...  \n",
       "5                                                 None  \n",
       "..                                                 ...  \n",
       "186  https://assetsds.cdnedge.bluemix.net/sites/def...  \n",
       "187  https://assetsds.cdnedge.bluemix.net/sites/def...  \n",
       "188  https://assetsds.cdnedge.bluemix.net/sites/def...  \n",
       "189                                               None  \n",
       "190  https://assetsds.cdnedge.bluemix.net/sites/def...  \n",
       "\n",
       "[190 rows x 15 columns]"
      ]
     },
     "execution_count": 343,
     "metadata": {},
     "output_type": "execute_result"
    }
   ],
   "source": [
    "data={'Newspaper name':Newspaper_name,'Date of Incident':Date_of_Incident,'Time of Incident': Time_of_Incident,'Incident type':Incident_type,'Location':Location,'Deaths count':Deaths_count,'Injury count':Injury_count,'Type of vehicle':Type_of_vehicle,'Drivers age':Drivers_age,\"Links\":url_list,'Description text': article_titles,'Date of publishing':date_list,  'Full Text': Description_Text, 'Article Summary': article_summary, 'Image links':img_urls}\n",
    "df=pd.DataFrame(data=data)\n",
    "df.index+=1\n",
    "df"
   ]
  },
  {
   "cell_type": "code",
   "execution_count": 344,
   "metadata": {},
   "outputs": [],
   "source": [
    "df.to_excel(\"~/Desktop/TheDailyStar_data.xlsx\")"
   ]
  },
  {
   "cell_type": "code",
   "execution_count": null,
   "metadata": {},
   "outputs": [],
   "source": []
  },
  {
   "cell_type": "code",
   "execution_count": null,
   "metadata": {},
   "outputs": [],
   "source": []
  }
 ],
 "metadata": {
  "kernelspec": {
   "display_name": "Python 3",
   "language": "python",
   "name": "python3"
  },
  "language_info": {
   "codemirror_mode": {
    "name": "ipython",
    "version": 3
   },
   "file_extension": ".py",
   "mimetype": "text/x-python",
   "name": "python",
   "nbconvert_exporter": "python",
   "pygments_lexer": "ipython3",
   "version": "3.8.5"
  }
 },
 "nbformat": 4,
 "nbformat_minor": 4
}
